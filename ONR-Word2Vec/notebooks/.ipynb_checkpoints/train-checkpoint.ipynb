{
 "cells": [
  {
   "cell_type": "code",
   "execution_count": 1,
   "id": "3dd404a0",
   "metadata": {},
   "outputs": [],
   "source": [
    "TRAIN_BATCH_SIZE = 128\n",
    "VAL_BATCH_SIZE = 128\n",
    "EPOCHS = 5"
   ]
  },
  {
   "cell_type": "code",
   "execution_count": 3,
   "id": "eb907cb1",
   "metadata": {},
   "outputs": [],
   "source": [
    "import sys\n",
    "sys.path.append('../')\n",
    "from utils import get_english_tokenizer, save_vocab\n",
    "from datasets import CBOWDataset\n",
    "from datasets import SkipGramDataset\n",
    "from torch.utils.data import random_split\n",
    "import torch\n",
    "from torch.utils.data import DataLoader"
   ]
  },
  {
   "cell_type": "code",
   "execution_count": 4,
   "id": "741b3c3b",
   "metadata": {},
   "outputs": [],
   "source": [
    "dataset = CBOWDataset(root_dir = \"../data\",tokenizer = get_english_tokenizer())"
   ]
  },
  {
   "cell_type": "code",
   "execution_count": null,
   "id": "2fe95c64",
   "metadata": {},
   "outputs": [],
   "source": [
    "dataset = SkipGramDataset(root_dir = \"../data\",tokenizer = get_english_tokenizer())"
   ]
  },
  {
   "cell_type": "code",
   "execution_count": 5,
   "id": "be932cb9",
   "metadata": {},
   "outputs": [
    {
     "name": "stdout",
     "output_type": "stream",
     "text": [
      "Vocabulary size: 3819\n"
     ]
    }
   ],
   "source": [
    "vocab_size = len(dataset.vocab.get_stoi())\n",
    "print(f\"Vocabulary size: {vocab_size}\")"
   ]
  },
  {
   "cell_type": "code",
   "execution_count": 9,
   "id": "63f052d2",
   "metadata": {},
   "outputs": [
    {
     "data": {
      "text/plain": [
       "(2646523, 2650)"
      ]
     },
     "execution_count": 9,
     "metadata": {},
     "output_type": "execute_result"
    }
   ],
   "source": [
    "train_size = int(0.999*len(dataset))\n",
    "val_size = len(dataset)-train_size\n",
    "train_size,val_size"
   ]
  },
  {
   "cell_type": "code",
   "execution_count": 10,
   "id": "f73e7cf8",
   "metadata": {},
   "outputs": [],
   "source": [
    "train_dataset,val_dataset = random_split(dataset,[train_size,val_size])"
   ]
  },
  {
   "cell_type": "code",
   "execution_count": 11,
   "id": "816f2dc5",
   "metadata": {},
   "outputs": [],
   "source": [
    "train_loader = DataLoader(\n",
    "        train_dataset,\n",
    "        batch_size=TRAIN_BATCH_SIZE,\n",
    "        shuffle=True,\n",
    "        drop_last = True\n",
    "    )\n",
    "val_loader = DataLoader(\n",
    "        val_dataset,\n",
    "        batch_size=VAL_BATCH_SIZE,\n",
    "        shuffle=False,\n",
    "        drop_last = False\n",
    "    )"
   ]
  },
  {
   "cell_type": "code",
   "execution_count": 12,
   "id": "3f4b0aaf",
   "metadata": {},
   "outputs": [
    {
     "name": "stdout",
     "output_type": "stream",
     "text": [
      "Adjusting learning rate of group 0 to 2.5000e-02.\n"
     ]
    }
   ],
   "source": [
    "from models import CBOW_Model\n",
    "from utils import get_lr_scheduler\n",
    "from torch import nn\n",
    "from torch.optim import Adam\n",
    "model = CBOW_Model(vocab_size=vocab_size)\n",
    "criterion = nn.CrossEntropyLoss()\n",
    "\n",
    "optimizer = Adam(model.parameters(), lr=0.025)\n",
    "lr_scheduler = get_lr_scheduler(optimizer, EPOCHS, verbose=True)\n",
    "\n",
    "device = torch.device(\"cuda\" if torch.cuda.is_available() else \"cpu\")\n",
    "model = model.to(device)"
   ]
  },
  {
   "cell_type": "code",
   "execution_count": null,
   "id": "cc79bfc5",
   "metadata": {},
   "outputs": [],
   "source": [
    "from models import SkipGram_Model\n",
    "from utils import get_lr_scheduler\n",
    "from torch import nn\n",
    "from torch.optim import Adam\n",
    "model = SkipGram_Model(vocab_size=vocab_size)\n",
    "criterion = nn.CrossEntropyLoss()\n",
    "\n",
    "optimizer = Adam(model.parameters(), lr=0.025)\n",
    "lr_scheduler = get_lr_scheduler(optimizer, EPOCHS, verbose=True)\n",
    "\n",
    "device = torch.device(\"cuda\" if torch.cuda.is_available() else \"cpu\")\n",
    "model = model.to(device)"
   ]
  },
  {
   "cell_type": "code",
   "execution_count": null,
   "id": "d69fc68f",
   "metadata": {},
   "outputs": [],
   "source": [
    "from trainer import Trainer\n",
    "trainer = Trainer(\n",
    "    model=model,\n",
    "    epochs=EPOCHS,\n",
    "    train_dataloader=train_loader,\n",
    "    train_steps = None,\n",
    "    val_dataloader=val_loader,\n",
    "    val_steps = None,\n",
    "    criterion=criterion,\n",
    "    optimizer=optimizer,\n",
    "    checkpoint_frequency = None,\n",
    "    lr_scheduler=lr_scheduler,\n",
    "    device=device,\n",
    "    model_dir=\"../output\",\n",
    "    model_name=\"word2vec\",\n",
    ")\n",
    "\n",
    "trainer.train()\n",
    "print(\"Training finished.\")\n",
    "\n"
   ]
  },
  {
   "cell_type": "code",
   "execution_count": null,
   "id": "d980bd09",
   "metadata": {},
   "outputs": [],
   "source": [
    "trainer.save_model()\n",
    "trainer.save_loss()\n",
    "save_vocab(dataset.vocab, \"../output\")\n",
    "print(\"Model artifacts saved to folder:\", \"../output\")"
   ]
  },
  {
   "cell_type": "code",
   "execution_count": null,
   "id": "d13df30a",
   "metadata": {},
   "outputs": [],
   "source": []
  }
 ],
 "metadata": {
  "kernelspec": {
   "display_name": "Python 3 (ipykernel)",
   "language": "python",
   "name": "python3"
  },
  "language_info": {
   "codemirror_mode": {
    "name": "ipython",
    "version": 3
   },
   "file_extension": ".py",
   "mimetype": "text/x-python",
   "name": "python",
   "nbconvert_exporter": "python",
   "pygments_lexer": "ipython3",
   "version": "3.8.12"
  }
 },
 "nbformat": 4,
 "nbformat_minor": 5
}
